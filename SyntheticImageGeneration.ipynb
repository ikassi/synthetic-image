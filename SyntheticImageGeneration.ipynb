{
 "metadata": {
  "name": "",
  "signature": "sha256:a7da31a45a397f7c5151512588e0bd76e6af67a6ea44e865a51925ad428b2836"
 },
 "nbformat": 3,
 "nbformat_minor": 0,
 "worksheets": [
  {
   "cells": [
    {
     "cell_type": "code",
     "collapsed": false,
     "input": [
      "import numpy as np\n",
      "import warnings\n",
      "warnings.filterwarnings('ignore')\n",
      "# sphere radius\n",
      "r = 20\n",
      "# albedo\n",
      "albedo = 0.5\n",
      "# illumination direction\n",
      "l = [0.2,0,0.98]"
     ],
     "language": "python",
     "metadata": {},
     "outputs": [],
     "prompt_number": 1
    },
    {
     "cell_type": "code",
     "collapsed": false,
     "input": [
      "[x,y] = np.mgrid[-1.3*r*10:1.3*r*10,-1.3*r*10:1.3*r*10]\n",
      "x = x.astype(float)\n",
      "y = y.astype(float)\n",
      "y *= 0.1\n",
      "x *= 0.1\n",
      "print  x"
     ],
     "language": "python",
     "metadata": {},
     "outputs": [
      {
       "output_type": "stream",
       "stream": "stdout",
       "text": [
        "[[-26.  -26.  -26.  ..., -26.  -26.  -26. ]\n",
        " [-25.9 -25.9 -25.9 ..., -25.9 -25.9 -25.9]\n",
        " [-25.8 -25.8 -25.8 ..., -25.8 -25.8 -25.8]\n",
        " ..., \n",
        " [ 25.7  25.7  25.7 ...,  25.7  25.7  25.7]\n",
        " [ 25.8  25.8  25.8 ...,  25.8  25.8  25.8]\n",
        " [ 25.9  25.9  25.9 ...,  25.9  25.9  25.9]]\n"
       ]
      }
     ],
     "prompt_number": 2
    },
    {
     "cell_type": "code",
     "collapsed": false,
     "input": [
      "p = -x/np.sqrt(r*r-(x*x+y*y))\n",
      "q = -y/np.sqrt(r*r-(x*x+y*y))"
     ],
     "language": "python",
     "metadata": {},
     "outputs": [],
     "prompt_number": 3
    },
    {
     "cell_type": "code",
     "collapsed": false,
     "input": [],
     "language": "python",
     "metadata": {},
     "outputs": [],
     "prompt_number": 3
    },
    {
     "cell_type": "code",
     "collapsed": false,
     "input": [
      "R = albedo*(-l[0]*p-l[1]*q + l[2])/np.sqrt(1+p*p + q*q)"
     ],
     "language": "python",
     "metadata": {},
     "outputs": [],
     "prompt_number": 4
    },
    {
     "cell_type": "code",
     "collapsed": false,
     "input": [
      "mask = (r*r - (x*x + y*y)) >= 0"
     ],
     "language": "python",
     "metadata": {},
     "outputs": [],
     "prompt_number": 5
    },
    {
     "cell_type": "code",
     "collapsed": false,
     "input": [
      "R *= mask"
     ],
     "language": "python",
     "metadata": {},
     "outputs": [],
     "prompt_number": 6
    },
    {
     "cell_type": "code",
     "collapsed": false,
     "input": [
      "E = R"
     ],
     "language": "python",
     "metadata": {},
     "outputs": [],
     "prompt_number": 7
    },
    {
     "cell_type": "code",
     "collapsed": false,
     "input": [
      "from mayavi import mlab as mlab\n",
      "import matplotlib.cm as cm\n",
      "import matplotlib.pyplot as plt\n",
      "%matplotlib inline  \n",
      "plt.imshow(E,cmap = cm.Greys_r)\n",
      "plt.axis('off')\n",
      "plt.show()"
     ],
     "language": "python",
     "metadata": {},
     "outputs": [
      {
       "output_type": "stream",
       "stream": "stderr",
       "text": [
        "WARNING:traits.has_traits:DEPRECATED: traits.has_traits.wrapped_class, 'the 'implements' class advisor has been deprecated. Use the 'provides' class decorator.\n"
       ]
      },
      {
       "metadata": {},
       "output_type": "display_data",
       "png": "[encoded data removed]",
       "text": [
        "<matplotlib.figure.Figure at 0x119e1f110>"
       ]
      }
     ],
     "prompt_number": 8
    }
   ],
   "metadata": {}
  }
 ]
}