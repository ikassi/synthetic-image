{
 "metadata": {
  "name": "",
  "signature": "sha256:ba2b42d8d478986fb982610c3a793c2fc69d53be8741ce7d541ce0b0156748e2"
 },
 "nbformat": 3,
 "nbformat_minor": 0,
 "worksheets": [
  {
   "cells": [
    {
     "cell_type": "heading",
     "level": 1,
     "metadata": {},
     "source": [
      "Synthetic Image Generation"
     ]
    },
    {
     "cell_type": "markdown",
     "metadata": {},
     "source": [
      "Equation of a sphere:\n",
      "$$\n",
      "x^2 + y^2 = r^2\n",
      "$$"
     ]
    },
    {
     "cell_type": "code",
     "collapsed": false,
     "input": [
      "import numpy as np\n",
      "# sphere radius\n",
      "r = 200\n",
      "# sphere grid \n",
      "[x,y] = np.mgrid[-1.3*r*10:1.3*r*10,-1.3*r*10:1.3*r*10]\n",
      "# using finner grid to enchance resolution\n",
      "[x,y] = [0.1*x.astype(float),0.1*y.astype(float)]"
     ],
     "language": "python",
     "metadata": {},
     "outputs": [],
     "prompt_number": 1
    },
    {
     "cell_type": "markdown",
     "metadata": {},
     "source": [
      "We assume constant albedo over all the points."
     ]
    },
    {
     "cell_type": "code",
     "collapsed": false,
     "input": [
      "# albedo\n",
      "albedo = 0.5"
     ],
     "language": "python",
     "metadata": {},
     "outputs": [],
     "prompt_number": 2
    },
    {
     "cell_type": "markdown",
     "metadata": {},
     "source": [
      "Illumination direction we want to visualize:\n",
      "$$\n",
      "l = [l_x,l_y,l_z]\n",
      "$$"
     ]
    },
    {
     "cell_type": "code",
     "collapsed": false,
     "input": [
      "# illumination direction\n",
      "l = [0.2,0,0.98]"
     ],
     "language": "python",
     "metadata": {},
     "outputs": [],
     "prompt_number": 3
    },
    {
     "cell_type": "markdown",
     "metadata": {},
     "source": [
      "We derive the surface partial derivatives:\n",
      "\n",
      "$$\n",
      "p  = \\frac{\\partial Z(x,y)}{\\partial x} = -\\frac{x}{\\sqrt{r^2 - (x^2+y^2)}}\n",
      "$$\n",
      "\n",
      "$$\n",
      "q  = \\frac{\\partial Z(x,y)}{\\partial y} = -\\frac{y}{\\sqrt{r^2 - (x^2+y^2)}}\n",
      "$$\n",
      "\n"
     ]
    },
    {
     "cell_type": "code",
     "collapsed": false,
     "input": [
      "import warnings\n",
      "warnings.filterwarnings('ignore')\n",
      "# partial derivatives in x and y direction\n",
      "p = -x/np.sqrt(r*r-(x*x+y*y))\n",
      "q = -y/np.sqrt(r*r-(x*x+y*y))"
     ],
     "language": "python",
     "metadata": {},
     "outputs": [],
     "prompt_number": 4
    },
    {
     "cell_type": "markdown",
     "metadata": {},
     "source": [
      "We calculate brightness ( $E$ ) at every point:\n",
      "\n",
      "$$\n",
      "E(x,y) = \\frac{\\rho}{\\sqrt{1+p^2+q^2}}[l_x,l_y,l_z]\\cdot[-p,-q,1]^T\n",
      "$$\n"
     ]
    },
    {
     "cell_type": "code",
     "collapsed": false,
     "input": [
      "E = albedo/np.sqrt(1+p*p + q*q) * (-l[0]*p - l[1]*q + l[2])"
     ],
     "language": "python",
     "metadata": {},
     "outputs": [],
     "prompt_number": 5
    },
    {
     "cell_type": "markdown",
     "metadata": {},
     "source": [
      "We disregard every point not satisfying the sphere equation as background: "
     ]
    },
    {
     "cell_type": "code",
     "collapsed": false,
     "input": [
      "E *= (r*r - (x*x + y*y)) >= 0"
     ],
     "language": "python",
     "metadata": {},
     "outputs": [],
     "prompt_number": 6
    },
    {
     "cell_type": "markdown",
     "metadata": {},
     "source": [
      "We do the same for every point with negative brightness:"
     ]
    },
    {
     "cell_type": "code",
     "collapsed": false,
     "input": [
      "E[E<0] = 0\n",
      "E[np.isnan(E)] = 0"
     ],
     "language": "python",
     "metadata": {},
     "outputs": [],
     "prompt_number": 7
    },
    {
     "cell_type": "code",
     "collapsed": false,
     "input": [
      "# we normalize\n",
      "E /= E.max()"
     ],
     "language": "python",
     "metadata": {},
     "outputs": [],
     "prompt_number": 8
    },
    {
     "cell_type": "code",
     "collapsed": false,
     "input": [
      "%matplotlib inline  \n",
      "import matplotlib.cm as cm\n",
      "import matplotlib.pyplot as plt\n",
      "\n",
      "plt.imshow(E,cmap = cm.Greys_r)\n",
      "plt.axis('off')\n",
      "plt.show()"
     ],
     "language": "python",
     "metadata": {},
     "outputs": [
      {
       "metadata": {},
       "output_type": "display_data",
       "png": "[encoded data removed]",
       "text": [
        "<matplotlib.figure.Figure at 0x101dce7d0>"
       ]
      }
     ],
     "prompt_number": 9
    }
   ],
   "metadata": {}
  }
 ]
}